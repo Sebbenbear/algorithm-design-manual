{
 "cells": [
  {
   "cell_type": "markdown",
   "metadata": {},
   "source": [
    "# Introduction to Algorithm Design"
   ]
  },
  {
   "cell_type": "code",
   "execution_count": 201,
   "metadata": {
    "collapsed": true
   },
   "outputs": [],
   "source": [
    "from math import floor, log2, factorial, ceil, gamma\n",
    "import matplotlib.pyplot as plt\n",
    "import numpy as np\n",
    "from scipy.interpolate import interp1d"
   ]
  },
  {
   "cell_type": "markdown",
   "metadata": {},
   "source": [
    "## Finding counterexamples\n",
    "\n",
    "##### 1.1 [3] Show that a + b can be less than min(a, b)."
   ]
  },
  {
   "cell_type": "code",
   "execution_count": 8,
   "metadata": {},
   "outputs": [
    {
     "data": {
      "text/plain": [
       "True"
      ]
     },
     "execution_count": 8,
     "metadata": {},
     "output_type": "execute_result"
    }
   ],
   "source": [
    "a = -1\n",
    "b = -4\n",
    "a+b < min(a, b)"
   ]
  },
  {
   "cell_type": "markdown",
   "metadata": {},
   "source": [
    "##### 1-2. [3] Show that a × b can be less than min(a, b)."
   ]
  },
  {
   "cell_type": "code",
   "execution_count": 9,
   "metadata": {},
   "outputs": [
    {
     "data": {
      "text/plain": [
       "True"
      ]
     },
     "execution_count": 9,
     "metadata": {},
     "output_type": "execute_result"
    }
   ],
   "source": [
    "a = -2\n",
    "b = 4\n",
    "a*b < min(a, b)"
   ]
  },
  {
   "cell_type": "markdown",
   "metadata": {},
   "source": [
    "##### 1-3. [5] Design/draw a road network with two points a and b such that the fastest route between a and b is not the shortest route.\n",
    "\n",
    "I will use an adjacency matrix to show the distance between the nodes.\n",
    "\n",
    "Distance from a to b is 6.\n",
    "The distance from a to c is 1. The distance from c to b is 1, so the total distance is 2, which is shorter than 6."
   ]
  },
  {
   "cell_type": "markdown",
   "metadata": {},
   "source": [
    "|   | a | b | c |\n",
    "|:-:|:-:|:-:|:-:|\n",
    "| a | 0 | 6 | 1 |\n",
    "| b | 6 | 0 | 1 |\n",
    "| c | 1 | 1 | 0 |"
   ]
  },
  {
   "cell_type": "code",
   "execution_count": 107,
   "metadata": {},
   "outputs": [
    {
     "data": {
      "image/png": "[encoded data removed]",
      "text/plain": [
       "<matplotlib.figure.Figure at 0x10f77eef0>"
      ]
     },
     "metadata": {},
     "output_type": "display_data"
    }
   ],
   "source": [
    "plt.axes()\n",
    "\n",
    "# Edge A-B\n",
    "plt.text(2.5, .25, '6', fontsize=12)\n",
    "line = plt.Line2D((5, 0), (0, 0), lw=2.5, zorder=0)\n",
    "plt.gca().add_line(line)\n",
    "\n",
    "# # Edge A-C\n",
    "plt.text(1, 2, '2', fontsize=12)\n",
    "line = plt.Line2D((0, 2.5), (0, 3), lw=2.5, zorder=0)\n",
    "plt.gca().add_line(line)\n",
    "\n",
    "# # Edge B-C\n",
    "plt.text(4, 2, '2', fontsize=12)\n",
    "line = plt.Line2D((5, 2.5), (0, 3), lw=2.5, zorder=0)\n",
    "plt.gca().add_line(line)\n",
    "\n",
    "# Node A\n",
    "plt.text(0, 0, 'A', fontsize=12)\n",
    "circle = plt.Circle((0, 0), radius=.75, fc='y')\n",
    "plt.gca().add_patch(circle)\n",
    "\n",
    "# Node B\n",
    "plt.text(5, 0, 'B', fontsize=12)\n",
    "circle1 = plt.Circle((5, 0), radius=.75, fc='r')\n",
    "plt.gca().add_patch(circle1)\n",
    "\n",
    "# Node C\n",
    "plt.text(2.5, 3, 'C', fontsize=12)\n",
    "circle1 = plt.Circle((2.5, 3), radius=.75, fc='g')\n",
    "plt.gca().add_patch(circle1)\n",
    "\n",
    "plt.axis('scaled')\n",
    "plt.show()"
   ]
  },
  {
   "cell_type": "markdown",
   "metadata": {},
   "source": [
    "##### 1-4. [5] Design/draw a road network with two points a and b such that the shortest route between a and b is not the route with the fewest turns.\n",
    "\n",
    "There is a long route extending from a to b that has one large curve. There is a short route with a bunch of small curves in it. Therefore there's more turns and it's shorter."
   ]
  },
  {
   "cell_type": "markdown",
   "metadata": {},
   "source": [
    "##### 1-5. [4] The knapsack problem is as follows: \n",
    "\n",
    "Given a set of integers S = {s1, s2, . . . , sn}, and a target number T,find a subset of S which adds up exactly to T . For example, there exists a subset within S = {1,2,5,9,10} that adds up to T = 22 but not T = 23.\n",
    "\n",
    "Find **counterexamples** to each of the following algorithms for the knapsack problem. That is, giving an S and T such that the subset is selected using the algorithm does not leave the knapsack completely full, even though such a solution exists.\n",
    "\n",
    "*(a) Put the elements of S in the knapsack in left to right order if they fit, i.e. the first-fit algorithm.*"
   ]
  },
  {
   "cell_type": "code",
   "execution_count": 31,
   "metadata": {},
   "outputs": [
    {
     "data": {
      "text/plain": [
       "False"
      ]
     },
     "execution_count": 31,
     "metadata": {},
     "output_type": "execute_result"
    }
   ],
   "source": [
    "def knapsack_first_fit(S, T):\n",
    "    result = []\n",
    "    for elem in S:\n",
    "        if sum(result) == 22:\n",
    "            return True\n",
    "        result.append(elem)\n",
    "    return False\n",
    "\n",
    "left_to_right({3, 4, 5, 9, 2, 3, 1}, 22)"
   ]
  },
  {
   "cell_type": "markdown",
   "metadata": {},
   "source": [
    "*(b) Put the elements of S in the knapsack from smallest to largest, i.e. the best-fit algorithm.*"
   ]
  },
  {
   "cell_type": "code",
   "execution_count": 38,
   "metadata": {},
   "outputs": [
    {
     "name": "stdout",
     "output_type": "stream",
     "text": [
      "[2, 4, 7, 8, 20]\n"
     ]
    },
    {
     "data": {
      "text/plain": [
       "False"
      ]
     },
     "execution_count": 38,
     "metadata": {},
     "output_type": "execute_result"
    }
   ],
   "source": [
    "def knapsack_smallest_first(S, T):\n",
    "    result = []\n",
    "    S = sorted(S)\n",
    "    print(S)\n",
    "    for elem in S:\n",
    "        if sum(result) == 22:\n",
    "            return True\n",
    "        result.append(elem)\n",
    "    return False\n",
    "\n",
    "knapsack_smallest_first([20, 2, 4, 7, 8] , 22)"
   ]
  },
  {
   "cell_type": "markdown",
   "metadata": {},
   "source": [
    "*(c) Put the elements of S in the knapsack from largest to smallest.*"
   ]
  },
  {
   "cell_type": "code",
   "execution_count": 39,
   "metadata": {},
   "outputs": [
    {
     "name": "stdout",
     "output_type": "stream",
     "text": [
      "[2, 4, 7, 8, 20]\n"
     ]
    },
    {
     "data": {
      "text/plain": [
       "False"
      ]
     },
     "execution_count": 39,
     "metadata": {},
     "output_type": "execute_result"
    }
   ],
   "source": [
    "def knapsack_largest_first(S, T):\n",
    "    result = []\n",
    "    S = sorted(S, reverse=True)\n",
    "    print(S)\n",
    "    for elem in S:\n",
    "        if sum(result) == 22:\n",
    "            return True\n",
    "        result.append(elem)\n",
    "    return False\n",
    "\n",
    "knapsack_smallest_first([20, 2, 4, 7, 8] , 22)"
   ]
  },
  {
   "cell_type": "markdown",
   "metadata": {},
   "source": [
    "##### 1-6. [5] The set cover problem is as follows: \n",
    "\n",
    "Given a set of subsets S1,...,Sm of the universal set U = {1, ..., n}, find the smallest subset of subsets T ⊂ S such that U<sub>ti</sub> ∈ T<sub>ti</sub> = U.\n",
    "\n",
    "For example, there are the following subsets, S1 = {1, 3, 5}, S2 = {2,4}, S3 = {1,4}, and S4 = {2,5} The set cover would then be S1 and S2.\n",
    "\n",
    "Find a counterexample for the following algorithm: Select the largest subset for the cover, and then delete all its elements from the universal set. \n",
    "\n",
    "Repeat by adding the subset containing the largest number of uncovered elements until all are covered."
   ]
  },
  {
   "cell_type": "code",
   "execution_count": null,
   "metadata": {
    "collapsed": true
   },
   "outputs": [],
   "source": []
  },
  {
   "cell_type": "markdown",
   "metadata": {},
   "source": [
    "## Proofs of Correctness\n",
    "\n",
    "##### 1-7. [3] Prove the correctness of the following recursive algorithm to multiply two natural numbers, for all integer constants c ≥ 2.\n",
    "\n",
    "```\n",
    "function multiply(y, z)\n",
    "comment Return the product yz.\n",
    "1. if z = 0 then return(0) else\n",
    "2. return(multiply(cy, ⌊z/c⌋) + y · (z mod c))\n",
    "```"
   ]
  },
  {
   "cell_type": "code",
   "execution_count": 7,
   "metadata": {},
   "outputs": [
    {
     "ename": "RecursionError",
     "evalue": "maximum recursion depth exceeded in comparison",
     "output_type": "error",
     "traceback": [
      "\u001b[0;31m---------------------------------------------------------------------------\u001b[0m",
      "\u001b[0;31mRecursionError\u001b[0m                            Traceback (most recent call last)",
      "\u001b[0;32m<ipython-input-7-2f36554192bf>\u001b[0m in \u001b[0;36m<module>\u001b[0;34m()\u001b[0m\n\u001b[1;32m      6\u001b[0m         \u001b[0;32mreturn\u001b[0m\u001b[0;34m(\u001b[0m\u001b[0mmultiply\u001b[0m\u001b[0;34m(\u001b[0m\u001b[0mc\u001b[0m\u001b[0;34m*\u001b[0m\u001b[0my\u001b[0m\u001b[0;34m,\u001b[0m \u001b[0;34m(\u001b[0m\u001b[0mz\u001b[0m\u001b[0;34m//\u001b[0m\u001b[0mc\u001b[0m\u001b[0;34m)\u001b[0m \u001b[0;34m+\u001b[0m \u001b[0my\u001b[0m \u001b[0;34m*\u001b[0m \u001b[0;34m(\u001b[0m\u001b[0mz\u001b[0m \u001b[0;34m%\u001b[0m \u001b[0mc\u001b[0m\u001b[0;34m)\u001b[0m\u001b[0;34m,\u001b[0m \u001b[0mc\u001b[0m\u001b[0;34m)\u001b[0m\u001b[0;34m)\u001b[0m\u001b[0;34m\u001b[0m\u001b[0m\n\u001b[1;32m      7\u001b[0m \u001b[0;34m\u001b[0m\u001b[0m\n\u001b[0;32m----> 8\u001b[0;31m \u001b[0mmultiply\u001b[0m\u001b[0;34m(\u001b[0m\u001b[0;36m2\u001b[0m\u001b[0;34m,\u001b[0m\u001b[0;36m3\u001b[0m\u001b[0;34m,\u001b[0m\u001b[0;36m2\u001b[0m\u001b[0;34m)\u001b[0m\u001b[0;34m\u001b[0m\u001b[0m\n\u001b[0m",
      "\u001b[0;32m<ipython-input-7-2f36554192bf>\u001b[0m in \u001b[0;36mmultiply\u001b[0;34m(y, z, c)\u001b[0m\n\u001b[1;32m      4\u001b[0m         \u001b[0;32mreturn\u001b[0m\u001b[0;34m(\u001b[0m\u001b[0;36m0\u001b[0m\u001b[0;34m)\u001b[0m\u001b[0;34m\u001b[0m\u001b[0m\n\u001b[1;32m      5\u001b[0m     \u001b[0;32melse\u001b[0m\u001b[0;34m:\u001b[0m\u001b[0;34m\u001b[0m\u001b[0m\n\u001b[0;32m----> 6\u001b[0;31m         \u001b[0;32mreturn\u001b[0m\u001b[0;34m(\u001b[0m\u001b[0mmultiply\u001b[0m\u001b[0;34m(\u001b[0m\u001b[0mc\u001b[0m\u001b[0;34m*\u001b[0m\u001b[0my\u001b[0m\u001b[0;34m,\u001b[0m \u001b[0;34m(\u001b[0m\u001b[0mz\u001b[0m\u001b[0;34m//\u001b[0m\u001b[0mc\u001b[0m\u001b[0;34m)\u001b[0m \u001b[0;34m+\u001b[0m \u001b[0my\u001b[0m \u001b[0;34m*\u001b[0m \u001b[0;34m(\u001b[0m\u001b[0mz\u001b[0m \u001b[0;34m%\u001b[0m \u001b[0mc\u001b[0m\u001b[0;34m)\u001b[0m\u001b[0;34m,\u001b[0m \u001b[0mc\u001b[0m\u001b[0;34m)\u001b[0m\u001b[0;34m)\u001b[0m\u001b[0;34m\u001b[0m\u001b[0m\n\u001b[0m\u001b[1;32m      7\u001b[0m \u001b[0;34m\u001b[0m\u001b[0m\n\u001b[1;32m      8\u001b[0m \u001b[0mmultiply\u001b[0m\u001b[0;34m(\u001b[0m\u001b[0;36m2\u001b[0m\u001b[0;34m,\u001b[0m\u001b[0;36m3\u001b[0m\u001b[0;34m,\u001b[0m\u001b[0;36m2\u001b[0m\u001b[0;34m)\u001b[0m\u001b[0;34m\u001b[0m\u001b[0m\n",
      "... last 1 frames repeated, from the frame below ...\n",
      "\u001b[0;32m<ipython-input-7-2f36554192bf>\u001b[0m in \u001b[0;36mmultiply\u001b[0;34m(y, z, c)\u001b[0m\n\u001b[1;32m      4\u001b[0m         \u001b[0;32mreturn\u001b[0m\u001b[0;34m(\u001b[0m\u001b[0;36m0\u001b[0m\u001b[0;34m)\u001b[0m\u001b[0;34m\u001b[0m\u001b[0m\n\u001b[1;32m      5\u001b[0m     \u001b[0;32melse\u001b[0m\u001b[0;34m:\u001b[0m\u001b[0;34m\u001b[0m\u001b[0m\n\u001b[0;32m----> 6\u001b[0;31m         \u001b[0;32mreturn\u001b[0m\u001b[0;34m(\u001b[0m\u001b[0mmultiply\u001b[0m\u001b[0;34m(\u001b[0m\u001b[0mc\u001b[0m\u001b[0;34m*\u001b[0m\u001b[0my\u001b[0m\u001b[0;34m,\u001b[0m \u001b[0;34m(\u001b[0m\u001b[0mz\u001b[0m\u001b[0;34m//\u001b[0m\u001b[0mc\u001b[0m\u001b[0;34m)\u001b[0m \u001b[0;34m+\u001b[0m \u001b[0my\u001b[0m \u001b[0;34m*\u001b[0m \u001b[0;34m(\u001b[0m\u001b[0mz\u001b[0m \u001b[0;34m%\u001b[0m \u001b[0mc\u001b[0m\u001b[0;34m)\u001b[0m\u001b[0;34m,\u001b[0m \u001b[0mc\u001b[0m\u001b[0;34m)\u001b[0m\u001b[0;34m)\u001b[0m\u001b[0;34m\u001b[0m\u001b[0m\n\u001b[0m\u001b[1;32m      7\u001b[0m \u001b[0;34m\u001b[0m\u001b[0m\n\u001b[1;32m      8\u001b[0m \u001b[0mmultiply\u001b[0m\u001b[0;34m(\u001b[0m\u001b[0;36m2\u001b[0m\u001b[0;34m,\u001b[0m\u001b[0;36m3\u001b[0m\u001b[0;34m,\u001b[0m\u001b[0;36m2\u001b[0m\u001b[0;34m)\u001b[0m\u001b[0;34m\u001b[0m\u001b[0m\n",
      "\u001b[0;31mRecursionError\u001b[0m: maximum recursion depth exceeded in comparison"
     ]
    }
   ],
   "source": [
    "def multiply(y, z, c):\n",
    "    # Return the product yz.\n",
    "    if z == 0:\n",
    "        return(0)\n",
    "    else:\n",
    "        return(multiply(c*y, (z//c) + y * (z % c), c))\n",
    "\n",
    "multiply(2,3,2)"
   ]
  },
  {
   "cell_type": "markdown",
   "metadata": {},
   "source": [
    "##### 1-8. [3] Prove the correctness of the following algorithm for evaluating a polynomial. \n",
    "\n",
    "P(x) = anxn +an−1xn−1 +...+a1x+a0\n",
    "\n",
    "```\n",
    "function horner(A, x) \n",
    "    p = An\n",
    "    for i from n − 1 to 0\n",
    "        p = p ∗ x + Ai\n",
    "    return p\n",
    "```"
   ]
  },
  {
   "cell_type": "code",
   "execution_count": null,
   "metadata": {},
   "outputs": [],
   "source": []
  },
  {
   "cell_type": "code",
   "execution_count": 209,
   "metadata": {},
   "outputs": [
    {
     "data": {
      "image/png": "[encoded data removed]",
      "text/plain": [
       "<matplotlib.figure.Figure at 0x10fdb2160>"
      ]
     },
     "metadata": {},
     "output_type": "display_data"
    }
   ],
   "source": []
  },
  {
   "cell_type": "code",
   "execution_count": 126,
   "metadata": {},
   "outputs": [
    {
     "name": "stdout",
     "output_type": "stream",
     "text": [
      "0.0\n",
      "1.0\n",
      "2.0\n",
      "3.0\n",
      "4.0\n"
     ]
    }
   ],
   "source": [
    "print(log(1, 2))\n",
    "print(log(2, 2))\n",
    "print(log(4, 2))\n",
    "print(log(8, 2))\n",
    "print(log(16, 2))"
   ]
  },
  {
   "cell_type": "markdown",
   "metadata": {},
   "source": []
  },
  {
   "cell_type": "code",
   "execution_count": null,
   "metadata": {
    "collapsed": true
   },
   "outputs": [],
   "source": []
  }
 ],
 "metadata": {
  "kernelspec": {
   "display_name": "Python [default]",
   "language": "python",
   "name": "python3"
  },
  "language_info": {
   "codemirror_mode": {
    "name": "ipython",
    "version": 3
   },
   "file_extension": ".py",
   "mimetype": "text/x-python",
   "name": "python",
   "nbconvert_exporter": "python",
   "pygments_lexer": "ipython3",
   "version": "3.6.1"
  }
 },
 "nbformat": 4,
 "nbformat_minor": 2
}
